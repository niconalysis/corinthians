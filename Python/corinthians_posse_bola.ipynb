{
 "cells": [
  {
   "cell_type": "code",
   "execution_count": null,
   "metadata": {},
   "outputs": [
    {
     "name": "stdout",
     "output_type": "stream",
     "text": [
      "(12021,0.PCT),\n",
      "(22021,0.PCT),\n",
      "(32021,0.PCT),\n",
      "(42021,0.PCT),\n",
      "(52021,0.PCT),\n",
      "(62021,0.PCT),\n",
      "(72021,0.PCT),\n",
      "(82021,0.PCT),\n",
      "(92021,0.PCT),\n",
      "(102021,0.PCT),\n",
      "(112021,0.PCT),\n",
      "(122021,0.PCT),\n",
      "(132021,0.PCT),\n",
      "(142021,0.PCT),\n",
      "(152021,0.PCT),\n",
      "(162021,0.PCT),\n",
      "(172021,0.PCT),\n",
      "(182021,0.PCT),\n",
      "(192021,0.PCT),\n",
      "(202021,0.PCT),\n",
      "(212021,0.PCT),\n",
      "(222021,0.PCT),\n",
      "(232021,0.PCT),\n",
      "(242021,0.PCT),\n",
      "(252021,0.PCT),\n",
      "(262021,0.PCT),\n",
      "(272021,0.PCT),\n",
      "(282021,0.PCT),\n",
      "(292021,0.PCT),\n",
      "(302021,0.PCT),\n",
      "(312021,0.PCT),\n",
      "(322021,0.PCT),\n",
      "(332021,0.PCT),\n",
      "(342021,0.PCT),\n",
      "(352021,0.PCT),\n",
      "(362021,0.PCT),\n",
      "(372021,0.PCT),\n",
      "(382021,0.PCT),\n",
      "(392021,0.PCT),\n",
      "(402021,0.PCT),\n",
      "(412021,0.PCT),\n",
      "(422021,0.PCT),\n",
      "(432021,0.PCT),\n",
      "(442021,0.PCT),\n",
      "(452021,0.PCT),\n",
      "(462021,0.PCT),\n",
      "(472021,0.PCT),\n",
      "(482021,0.PCT),\n",
      "(492021,0.PCT),\n",
      "(502021,0.PCT),\n",
      "(512021,0.PCT),\n",
      "(522021,0.PCT),\n",
      "(532021,0.PCT),\n",
      "(542021,0.PCT),\n",
      "(552021,0.PCT),\n",
      "(562021,0.PCT),\n",
      "(572021,0.PCT),\n",
      "(582021,0.PCT),\n",
      "(592021,0.PCT),\n",
      "(602021,0.PCT),\n",
      "(612021,0.PCT),\n",
      "(622021,0.PCT),\n",
      "(632021,0.PCT),\n",
      "(642021,0.PCT),\n",
      "(652021,0.PCT),\n",
      "(662021,0.PCT),\n",
      "(672021,0.PCT),\n",
      "(682021,0.PCT),\n",
      "(692021,0.PCT),\n",
      "(702021,0.PCT),\n",
      "(712021,0.PCT),\n",
      "(722021,0.PCT),\n",
      "(732021,0.PCT),\n"
     ]
    }
   ],
   "source": [
    "for i in range(73):\n",
    "    print(f\"({i+1}2025,0.PCT),\")"
   ]
  }
 ],
 "metadata": {
  "kernelspec": {
   "display_name": "Python 3",
   "language": "python",
   "name": "python3"
  },
  "language_info": {
   "codemirror_mode": {
    "name": "ipython",
    "version": 3
   },
   "file_extension": ".py",
   "mimetype": "text/x-python",
   "name": "python",
   "nbconvert_exporter": "python",
   "pygments_lexer": "ipython3",
   "version": "3.13.2"
  }
 },
 "nbformat": 4,
 "nbformat_minor": 2
}
